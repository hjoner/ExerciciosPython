{
 "cells": [
  {
   "cell_type": "code",
   "execution_count": null,
   "metadata": {},
   "outputs": [],
   "source": [
    "\"\"\"\n",
    "Descrição: Este programa demonstra as operações informadas pelo usuário.\n",
    "Autor:Henrique Joner\n",
    "Versão:0.0.1\n",
    "Data:29/11/2018\n",
    "\"\"\"\n",
    "\n",
    "#Inicialização de variáveis\n",
    "\n",
    "\n",
    "operacao = 0\n",
    "\n",
    "x = 0\n",
    "\n",
    "tabuada = 0\n",
    "\n",
    "#Entrada de dados\n",
    "\n",
    "while True:\n",
    "    \n",
    "    operacao = input(\"Informe a operação desejada: adição (+), subtração (-), divisão (/), multiplicação (*) ou tecle sair para encerrar. \")\n",
    "\n",
    "    x = 1\n",
    "    \n",
    "    if operacao == \"sair\":\n",
    "        break\n",
    "        \n",
    "    elif operacao != \"+\" or \"-\" or \"/\" or \"*\":\n",
    "        tabuada = int(input(\"Digite o número que deseja obter a tabuada \"))\n",
    "        X = 1\n",
    "        \n",
    "#Processamento de dados        \n",
    "        while x<=10:\n",
    "            \n",
    "            if operacao == \"+\":\n",
    "                print(\"%d + %d é %d\" % (tabuada, x, x + tabuada))\n",
    "            elif operacao == \"-\":\n",
    "                print(\"%d - %d é %d\" % (tabuada, x, x - tabuada))\n",
    "            elif operacao == \"*\":\n",
    "                print(\"%d * %d é %d\" % (tabuada, x, x * tabuada))\n",
    "            elif operacao == \"/\":\n",
    "                print(\"%d / %d é %d\" % (tabuada, x, x / tabuada))    \n",
    "            x += 1\n",
    "    else:\n",
    "        print(\"Erro! Você deve escolher uma opção válida!\")\n",
    "\n",
    "\n",
    "#Saída de dados\n"
   ]
  },
  {
   "cell_type": "markdown",
   "metadata": {},
   "source": []
  },
  {
   "cell_type": "code",
   "execution_count": null,
   "metadata": {},
   "outputs": [],
   "source": []
  }
 ],
 "metadata": {
  "kernelspec": {
   "display_name": "Python 3",
   "language": "python",
   "name": "python3"
  },
  "language_info": {
   "codemirror_mode": {
    "name": "ipython",
    "version": 3
   },
   "file_extension": ".py",
   "mimetype": "text/x-python",
   "name": "python",
   "nbconvert_exporter": "python",
   "pygments_lexer": "ipython3",
   "version": "3.7.0"
  }
 },
 "nbformat": 4,
 "nbformat_minor": 2
}
