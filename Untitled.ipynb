{
 "cells": [
  {
   "cell_type": "code",
   "execution_count": 127,
   "metadata": {},
   "outputs": [
    {
     "name": "stdout",
     "output_type": "stream",
     "text": [
      "\n",
      " Existem 10 clientes na fila\n",
      "Fila atual: [1, 2, 3, 4, 5, 6, 7, 8, 9, 10]\n",
      "Digite F para adicionar um cliente ao fim da fila, \n",
      "ou A para realizar o atendimento. S para sair.\n",
      "Operação(F, A ou S):AAS\n",
      "Cliente 1 atendido\n",
      "Cliente 2 atendido\n"
     ]
    }
   ],
   "source": [
    "\"\"\"\n",
    "Descrição: Este programa recebe todas as ordens de atentimento de uma fila de uma única fez e depois as executa.\n",
    "Autor:Henrique Joner\n",
    "Versão:0.0.1\n",
    "Data:07/01/2019\n",
    "\"\"\"\n",
    "\n",
    "#Inicialização de variáveis\n",
    "\n",
    "ultimo = 0\n",
    "\n",
    "fila = 0\n",
    "\n",
    "operacao = 0\n",
    "\n",
    "x = 0\n",
    "\n",
    "atendido = 0\n",
    "\n",
    "sair = 0\n",
    "\n",
    "\n",
    "\n",
    "#Entrada de dados\n",
    "\n",
    "ultimo = 10\n",
    "fila = list(range(1,ultimo+1))\n",
    "while True:\n",
    "    print(\"\\n Existem %d clientes na fila\" % len(fila))\n",
    "    print(\"Fila atual:\", fila)\n",
    "    print(\"Digite F para adicionar um cliente ao fim da fila, \")\n",
    "    print(\"ou A para realizar o atendimento. S para sair.\")\n",
    "    operacao = input(\"Operação(F, A ou S):\")\n",
    "\n",
    "#Processamento de dados\n",
    "\n",
    "    x=0\n",
    "    sair = False \n",
    "    while x < len(operacao):\n",
    "        if operacao[x] == \"A\":\n",
    "            if(len(fila))>0:\n",
    "                atendido = fila.pop(0)\n",
    "                print(\"Cliente %d atendido\" % atendido)\n",
    "            else:\n",
    "                print(\"Fila vazia! Niguém para atender!\")\n",
    "            \n",
    "        elif operacao[x] == \"F\":\n",
    "            ultimo += 1\n",
    "            fila.append(ultimo)\n",
    "        elif operacao[x] == \"S\":\n",
    "            sair = True\n",
    "            break\n",
    "        else:\n",
    "            print(\"Operação inválida! Digite apenas F, A ou S!\")\n",
    "        x += 1 \n",
    "\n",
    "#Saída de dados\n",
    "    if(sair):\n",
    "        break"
   ]
  },
  {
   "cell_type": "code",
   "execution_count": null,
   "metadata": {},
   "outputs": [],
   "source": []
  },
  {
   "cell_type": "code",
   "execution_count": null,
   "metadata": {},
   "outputs": [],
   "source": []
  },
  {
   "cell_type": "code",
   "execution_count": null,
   "metadata": {},
   "outputs": [],
   "source": []
  }
 ],
 "metadata": {
  "kernelspec": {
   "display_name": "Python 3",
   "language": "python",
   "name": "python3"
  },
  "language_info": {
   "codemirror_mode": {
    "name": "ipython",
    "version": 3
   },
   "file_extension": ".py",
   "mimetype": "text/x-python",
   "name": "python",
   "nbconvert_exporter": "python",
   "pygments_lexer": "ipython3",
   "version": "3.7.0"
  }
 },
 "nbformat": 4,
 "nbformat_minor": 2
}
