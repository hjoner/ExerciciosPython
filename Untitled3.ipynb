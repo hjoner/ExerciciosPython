{
 "cells": [
  {
   "cell_type": "code",
   "execution_count": 15,
   "metadata": {},
   "outputs": [
    {
     "name": "stdout",
     "output_type": "stream",
     "text": [
      "Um número primo é todo número inteiro, positivo e maior que 1, que só possa ser dividido por ele mesmo e por 1.\n",
      "Levando isso em consideração, digite o número desejado e será apresentada uma listagem contendo os primeiros números primos existentes na quantidade solicitada: 11\n",
      "3\n",
      "5\n",
      "7\n",
      "11\n",
      "13\n",
      "17\n",
      "19\n",
      "23\n",
      "29\n",
      "31\n"
     ]
    }
   ],
   "source": [
    "\"\"\"\n",
    "Descrição: Este programa apresenta os primeiros números primos na quantidade informada pelo usuário.\n",
    "Autor:Henrique Joner\n",
    "Versão:0.0.1\n",
    "Data:03/01/2019\n",
    "\"\"\"\n",
    "\n",
    "#Inicialização de variáveis\n",
    "\n",
    "numero = 0\n",
    "\n",
    "x = 0\n",
    "\n",
    "y = 0\n",
    "\n",
    "z = 0\n",
    "\n",
    "\n",
    "#Entrada de dados\n",
    "print(\"Um número primo é todo número inteiro, positivo e maior que 1, que só possa ser dividido por ele mesmo e por 1.\")\n",
    "numero = int(input(\"Levando isso em consideração, digite o número desejado e será apresentada uma listagem contendo os primeiros números primos existentes na quantidade solicitada: \"))\n",
    "\n",
    "\n",
    "#Processamento de dados\n",
    "\n",
    "if numero >= 1:  \n",
    "    z = 1\n",
    "    y = 3\n",
    "    while z < numero:\n",
    "        x = 3\n",
    "        while x < y:\n",
    "            if y % x == 0:\n",
    "                break\n",
    "            x += 2\n",
    "        if x == y:\n",
    "            print(x)\n",
    "            z = z + 1\n",
    "        y += 2    \n",
    " "
   ]
  },
  {
   "cell_type": "code",
   "execution_count": null,
   "metadata": {},
   "outputs": [],
   "source": []
  }
 ],
 "metadata": {
  "kernelspec": {
   "display_name": "Python 3",
   "language": "python",
   "name": "python3"
  },
  "language_info": {
   "codemirror_mode": {
    "name": "ipython",
    "version": 3
   },
   "file_extension": ".py",
   "mimetype": "text/x-python",
   "name": "python",
   "nbconvert_exporter": "python",
   "pygments_lexer": "ipython3",
   "version": "3.7.0"
  }
 },
 "nbformat": 4,
 "nbformat_minor": 2
}
