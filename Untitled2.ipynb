{
 "cells": [
  {
   "cell_type": "code",
   "execution_count": 32,
   "metadata": {},
   "outputs": [
    {
     "name": "stdout",
     "output_type": "stream",
     "text": [
      "Informe a operação desejada: adição (+), subtração (-), divisão (/), multiplicação (*) ou tecle sair para encerrar. +\n"
     ]
    }
   ],
   "source": [
    "#Inicialização de variáveis\n",
    "\n",
    "\n",
    "operacao = 0\n",
    "\n",
    "x = 0\n",
    "\n",
    "tabuada = 0\n",
    "\n",
    "#Entrada de dados\n",
    "\n",
    "while True: \n",
    "    operacao = input(\"Informe a operação desejada: adição (+), subtração (-), divisão (/), multiplicação (*) ou tecle sair para encerrar. \")\n",
    "    \n",
    "#Processamento de dados   \n",
    "  \n",
    "    \n",
    "    if operacao == \"sair\" or \"SAIR\":\n",
    "        break        \n",
    "    elif operacao != \"+\" or \"-\" or \"/\" or \"*\":\n",
    "        print(\"Você escolheu a operação %s\" % operacao)\n",
    "        tabuada = int(input(\"Digite o número que deseja obter a tabuada \"))\n",
    "        x = 1\n",
    "        \n",
    "#Saída      \n",
    "        while x<=10:\n",
    "            \n",
    "            if operacao == \"+\":\n",
    "                print(\"%d + %d é %d\" % (tabuada, x, x + tabuada))\n",
    "            elif operacao == \"-\":\n",
    "                print(\"%d - %d é %d\" % (tabuada, x, x - tabuada))\n",
    "            elif operacao == \"*\":\n",
    "                print(\"%d * %d é %d\" % (tabuada, x, x * tabuada))\n",
    "            elif operacao == \"/\":\n",
    "                print(\"%d / %d é %d\" % (tabuada, x, x / tabuada))    \n",
    "            x += 1\n",
    "    else:\n",
    "        print(\"Erro! Você deve escolher uma opção válida!\")"
   ]
  },
  {
   "cell_type": "code",
   "execution_count": null,
   "metadata": {},
   "outputs": [],
   "source": []
  },
  {
   "cell_type": "code",
   "execution_count": null,
   "metadata": {},
   "outputs": [],
   "source": []
  }
 ],
 "metadata": {
  "kernelspec": {
   "display_name": "Python 3",
   "language": "python",
   "name": "python3"
  },
  "language_info": {
   "codemirror_mode": {
    "name": "ipython",
    "version": 3
   },
   "file_extension": ".py",
   "mimetype": "text/x-python",
   "name": "python",
   "nbconvert_exporter": "python",
   "pygments_lexer": "ipython3",
   "version": "3.7.0"
  }
 },
 "nbformat": 4,
 "nbformat_minor": 2
}
