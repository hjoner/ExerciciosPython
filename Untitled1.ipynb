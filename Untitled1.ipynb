{
 "cells": [
  {
   "cell_type": "code",
   "execution_count": null,
   "metadata": {},
   "outputs": [],
   "source": [
    "\"\"\"\n",
    "Descrição: Este programa apresenta a raiz quadrada do número informado pelo usuário.\n",
    "Autor:Henrique Joner\n",
    "Versão:0.0.1\n",
    "Data:03/01/2019\n",
    "\"\"\"\n",
    "\n",
    "#Inicialização de variáveis\n",
    "\n",
    "numero = 0\n",
    "\n",
    "b = 0\n",
    "\n",
    "p = 0        \n",
    "\n",
    "#Entrada de dados\n",
    "\n",
    "numero = float(input(\"Digite o número que você deseja obter a raíz quadrada: \"))\n",
    "\n",
    "b = 2          \n",
    "               \n",
    "#Processamento de dados\n",
    "\n",
    "while abs(n-(b*b)) > 0.0001:\n",
    "    p=(b+(numero/b))/2\n",
    "    b=p\n",
    "\n",
    "#Saída de dados\n",
    "print(\"A raiz quadrada de %d é aproximadamente %8.4f\" % (numero, p))"
   ]
  },
  {
   "cell_type": "code",
   "execution_count": null,
   "metadata": {},
   "outputs": [],
   "source": []
  }
 ],
 "metadata": {
  "kernelspec": {
   "display_name": "Python 3",
   "language": "python",
   "name": "python3"
  },
  "language_info": {
   "codemirror_mode": {
    "name": "ipython",
    "version": 3
   },
   "file_extension": ".py",
   "mimetype": "text/x-python",
   "name": "python",
   "nbconvert_exporter": "python",
   "pygments_lexer": "ipython3",
   "version": "3.7.0"
  }
 },
 "nbformat": 4,
 "nbformat_minor": 2
}
